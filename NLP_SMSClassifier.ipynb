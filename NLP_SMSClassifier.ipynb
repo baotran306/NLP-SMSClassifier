{
 "cells": [
  {
   "cell_type": "code",
   "execution_count": 115,
   "metadata": {},
   "outputs": [],
   "source": [
    "import pandas as pd\n",
    "import numpy as np\n",
    "import seaborn as sns\n",
    "import matplotlib.pyplot as plt\n",
    "sns.set()\n",
    "import warnings\n",
    "warnings.filterwarnings(\"ignore\")"
   ]
  },
  {
   "cell_type": "markdown",
   "metadata": {},
   "source": [
    "### 1. Explore Data"
   ]
  },
  {
   "cell_type": "code",
   "execution_count": 116,
   "metadata": {},
   "outputs": [
    {
     "data": {
      "text/html": [
       "<div>\n",
       "<style scoped>\n",
       "    .dataframe tbody tr th:only-of-type {\n",
       "        vertical-align: middle;\n",
       "    }\n",
       "\n",
       "    .dataframe tbody tr th {\n",
       "        vertical-align: top;\n",
       "    }\n",
       "\n",
       "    .dataframe thead th {\n",
       "        text-align: right;\n",
       "    }\n",
       "</style>\n",
       "<table border=\"1\" class=\"dataframe\">\n",
       "  <thead>\n",
       "    <tr style=\"text-align: right;\">\n",
       "      <th></th>\n",
       "      <th>v1</th>\n",
       "      <th>v2</th>\n",
       "      <th>Unnamed: 2</th>\n",
       "      <th>Unnamed: 3</th>\n",
       "      <th>Unnamed: 4</th>\n",
       "    </tr>\n",
       "  </thead>\n",
       "  <tbody>\n",
       "    <tr>\n",
       "      <th>0</th>\n",
       "      <td>ham</td>\n",
       "      <td>Go until jurong point, crazy.. Available only ...</td>\n",
       "      <td>NaN</td>\n",
       "      <td>NaN</td>\n",
       "      <td>NaN</td>\n",
       "    </tr>\n",
       "    <tr>\n",
       "      <th>1</th>\n",
       "      <td>ham</td>\n",
       "      <td>Ok lar... Joking wif u oni...</td>\n",
       "      <td>NaN</td>\n",
       "      <td>NaN</td>\n",
       "      <td>NaN</td>\n",
       "    </tr>\n",
       "    <tr>\n",
       "      <th>2</th>\n",
       "      <td>spam</td>\n",
       "      <td>Free entry in 2 a wkly comp to win FA Cup fina...</td>\n",
       "      <td>NaN</td>\n",
       "      <td>NaN</td>\n",
       "      <td>NaN</td>\n",
       "    </tr>\n",
       "    <tr>\n",
       "      <th>3</th>\n",
       "      <td>ham</td>\n",
       "      <td>U dun say so early hor... U c already then say...</td>\n",
       "      <td>NaN</td>\n",
       "      <td>NaN</td>\n",
       "      <td>NaN</td>\n",
       "    </tr>\n",
       "    <tr>\n",
       "      <th>4</th>\n",
       "      <td>ham</td>\n",
       "      <td>Nah I don't think he goes to usf, he lives aro...</td>\n",
       "      <td>NaN</td>\n",
       "      <td>NaN</td>\n",
       "      <td>NaN</td>\n",
       "    </tr>\n",
       "  </tbody>\n",
       "</table>\n",
       "</div>"
      ],
      "text/plain": [
       "     v1                                                 v2 Unnamed: 2  \\\n",
       "0   ham  Go until jurong point, crazy.. Available only ...        NaN   \n",
       "1   ham                      Ok lar... Joking wif u oni...        NaN   \n",
       "2  spam  Free entry in 2 a wkly comp to win FA Cup fina...        NaN   \n",
       "3   ham  U dun say so early hor... U c already then say...        NaN   \n",
       "4   ham  Nah I don't think he goes to usf, he lives aro...        NaN   \n",
       "\n",
       "  Unnamed: 3 Unnamed: 4  \n",
       "0        NaN        NaN  \n",
       "1        NaN        NaN  \n",
       "2        NaN        NaN  \n",
       "3        NaN        NaN  \n",
       "4        NaN        NaN  "
      ]
     },
     "execution_count": 116,
     "metadata": {},
     "output_type": "execute_result"
    }
   ],
   "source": [
    "df = pd.read_csv(\"spam.csv\", encoding=\"latin\")\n",
    "df.head()"
   ]
  },
  {
   "cell_type": "code",
   "execution_count": 117,
   "metadata": {},
   "outputs": [
    {
     "data": {
      "text/plain": [
       "(5572, 5)"
      ]
     },
     "execution_count": 117,
     "metadata": {},
     "output_type": "execute_result"
    }
   ],
   "source": [
    "df.shape"
   ]
  },
  {
   "cell_type": "code",
   "execution_count": 118,
   "metadata": {},
   "outputs": [
    {
     "name": "stdout",
     "output_type": "stream",
     "text": [
      "<class 'pandas.core.frame.DataFrame'>\n",
      "RangeIndex: 5572 entries, 0 to 5571\n",
      "Data columns (total 5 columns):\n",
      " #   Column      Non-Null Count  Dtype \n",
      "---  ------      --------------  ----- \n",
      " 0   v1          5572 non-null   object\n",
      " 1   v2          5572 non-null   object\n",
      " 2   Unnamed: 2  50 non-null     object\n",
      " 3   Unnamed: 3  12 non-null     object\n",
      " 4   Unnamed: 4  6 non-null      object\n",
      "dtypes: object(5)\n",
      "memory usage: 217.8+ KB\n"
     ]
    }
   ],
   "source": [
    "df.info()"
   ]
  },
  {
   "cell_type": "code",
   "execution_count": 119,
   "metadata": {},
   "outputs": [
    {
     "data": {
      "text/html": [
       "<div>\n",
       "<style scoped>\n",
       "    .dataframe tbody tr th:only-of-type {\n",
       "        vertical-align: middle;\n",
       "    }\n",
       "\n",
       "    .dataframe tbody tr th {\n",
       "        vertical-align: top;\n",
       "    }\n",
       "\n",
       "    .dataframe thead th {\n",
       "        text-align: right;\n",
       "    }\n",
       "</style>\n",
       "<table border=\"1\" class=\"dataframe\">\n",
       "  <thead>\n",
       "    <tr style=\"text-align: right;\">\n",
       "      <th></th>\n",
       "      <th>v1</th>\n",
       "      <th>v2</th>\n",
       "      <th>Unnamed: 2</th>\n",
       "      <th>Unnamed: 3</th>\n",
       "      <th>Unnamed: 4</th>\n",
       "    </tr>\n",
       "  </thead>\n",
       "  <tbody>\n",
       "    <tr>\n",
       "      <th>count</th>\n",
       "      <td>5572</td>\n",
       "      <td>5572</td>\n",
       "      <td>50</td>\n",
       "      <td>12</td>\n",
       "      <td>6</td>\n",
       "    </tr>\n",
       "    <tr>\n",
       "      <th>unique</th>\n",
       "      <td>2</td>\n",
       "      <td>5169</td>\n",
       "      <td>43</td>\n",
       "      <td>10</td>\n",
       "      <td>5</td>\n",
       "    </tr>\n",
       "    <tr>\n",
       "      <th>top</th>\n",
       "      <td>ham</td>\n",
       "      <td>Sorry, I'll call later</td>\n",
       "      <td>bt not his girlfrnd... G o o d n i g h t . . .@\"</td>\n",
       "      <td>GE</td>\n",
       "      <td>GNT:-)\"</td>\n",
       "    </tr>\n",
       "    <tr>\n",
       "      <th>freq</th>\n",
       "      <td>4825</td>\n",
       "      <td>30</td>\n",
       "      <td>3</td>\n",
       "      <td>2</td>\n",
       "      <td>2</td>\n",
       "    </tr>\n",
       "  </tbody>\n",
       "</table>\n",
       "</div>"
      ],
      "text/plain": [
       "          v1                      v2  \\\n",
       "count   5572                    5572   \n",
       "unique     2                    5169   \n",
       "top      ham  Sorry, I'll call later   \n",
       "freq    4825                      30   \n",
       "\n",
       "                                               Unnamed: 2 Unnamed: 3  \\\n",
       "count                                                  50         12   \n",
       "unique                                                 43         10   \n",
       "top      bt not his girlfrnd... G o o d n i g h t . . .@\"         GE   \n",
       "freq                                                    3          2   \n",
       "\n",
       "       Unnamed: 4  \n",
       "count           6  \n",
       "unique          5  \n",
       "top       GNT:-)\"  \n",
       "freq            2  "
      ]
     },
     "execution_count": 119,
     "metadata": {},
     "output_type": "execute_result"
    }
   ],
   "source": [
    "df.describe()"
   ]
  },
  {
   "cell_type": "code",
   "execution_count": 120,
   "metadata": {},
   "outputs": [
    {
     "data": {
      "text/plain": [
       "Index(['v1', 'v2', 'Unnamed: 2', 'Unnamed: 3', 'Unnamed: 4'], dtype='object')"
      ]
     },
     "execution_count": 120,
     "metadata": {},
     "output_type": "execute_result"
    }
   ],
   "source": [
    "df.columns"
   ]
  },
  {
   "cell_type": "code",
   "execution_count": 121,
   "metadata": {},
   "outputs": [
    {
     "data": {
      "text/html": [
       "<div>\n",
       "<style scoped>\n",
       "    .dataframe tbody tr th:only-of-type {\n",
       "        vertical-align: middle;\n",
       "    }\n",
       "\n",
       "    .dataframe tbody tr th {\n",
       "        vertical-align: top;\n",
       "    }\n",
       "\n",
       "    .dataframe thead th {\n",
       "        text-align: right;\n",
       "    }\n",
       "</style>\n",
       "<table border=\"1\" class=\"dataframe\">\n",
       "  <thead>\n",
       "    <tr style=\"text-align: right;\">\n",
       "      <th></th>\n",
       "      <th>label</th>\n",
       "      <th>text</th>\n",
       "    </tr>\n",
       "  </thead>\n",
       "  <tbody>\n",
       "    <tr>\n",
       "      <th>0</th>\n",
       "      <td>ham</td>\n",
       "      <td>Go until jurong point, crazy.. Available only ...</td>\n",
       "    </tr>\n",
       "    <tr>\n",
       "      <th>1</th>\n",
       "      <td>ham</td>\n",
       "      <td>Ok lar... Joking wif u oni...</td>\n",
       "    </tr>\n",
       "    <tr>\n",
       "      <th>2</th>\n",
       "      <td>spam</td>\n",
       "      <td>Free entry in 2 a wkly comp to win FA Cup fina...</td>\n",
       "    </tr>\n",
       "    <tr>\n",
       "      <th>3</th>\n",
       "      <td>ham</td>\n",
       "      <td>U dun say so early hor... U c already then say...</td>\n",
       "    </tr>\n",
       "    <tr>\n",
       "      <th>4</th>\n",
       "      <td>ham</td>\n",
       "      <td>Nah I don't think he goes to usf, he lives aro...</td>\n",
       "    </tr>\n",
       "  </tbody>\n",
       "</table>\n",
       "</div>"
      ],
      "text/plain": [
       "  label                                               text\n",
       "0   ham  Go until jurong point, crazy.. Available only ...\n",
       "1   ham                      Ok lar... Joking wif u oni...\n",
       "2  spam  Free entry in 2 a wkly comp to win FA Cup fina...\n",
       "3   ham  U dun say so early hor... U c already then say...\n",
       "4   ham  Nah I don't think he goes to usf, he lives aro..."
      ]
     },
     "execution_count": 121,
     "metadata": {},
     "output_type": "execute_result"
    }
   ],
   "source": [
    "df.drop(['Unnamed: 2', 'Unnamed: 3', 'Unnamed: 4'], axis=1, inplace=True)\n",
    "df.columns = ['label', 'text']\n",
    "df.head()"
   ]
  },
  {
   "cell_type": "code",
   "execution_count": 122,
   "metadata": {},
   "outputs": [
    {
     "data": {
      "text/plain": [
       "label    0\n",
       "text     0\n",
       "dtype: int64"
      ]
     },
     "execution_count": 122,
     "metadata": {},
     "output_type": "execute_result"
    }
   ],
   "source": [
    "df.isnull().sum()"
   ]
  },
  {
   "cell_type": "code",
   "execution_count": 123,
   "metadata": {},
   "outputs": [
    {
     "data": {
      "text/html": [
       "<div>\n",
       "<style scoped>\n",
       "    .dataframe tbody tr th:only-of-type {\n",
       "        vertical-align: middle;\n",
       "    }\n",
       "\n",
       "    .dataframe tbody tr th {\n",
       "        vertical-align: top;\n",
       "    }\n",
       "\n",
       "    .dataframe thead th {\n",
       "        text-align: right;\n",
       "    }\n",
       "</style>\n",
       "<table border=\"1\" class=\"dataframe\">\n",
       "  <thead>\n",
       "    <tr style=\"text-align: right;\">\n",
       "      <th></th>\n",
       "      <th>label</th>\n",
       "      <th>text</th>\n",
       "      <th>length_text</th>\n",
       "    </tr>\n",
       "  </thead>\n",
       "  <tbody>\n",
       "    <tr>\n",
       "      <th>0</th>\n",
       "      <td>ham</td>\n",
       "      <td>Go until jurong point, crazy.. Available only ...</td>\n",
       "      <td>111</td>\n",
       "    </tr>\n",
       "    <tr>\n",
       "      <th>1</th>\n",
       "      <td>ham</td>\n",
       "      <td>Ok lar... Joking wif u oni...</td>\n",
       "      <td>29</td>\n",
       "    </tr>\n",
       "    <tr>\n",
       "      <th>2</th>\n",
       "      <td>spam</td>\n",
       "      <td>Free entry in 2 a wkly comp to win FA Cup fina...</td>\n",
       "      <td>155</td>\n",
       "    </tr>\n",
       "    <tr>\n",
       "      <th>3</th>\n",
       "      <td>ham</td>\n",
       "      <td>U dun say so early hor... U c already then say...</td>\n",
       "      <td>49</td>\n",
       "    </tr>\n",
       "    <tr>\n",
       "      <th>4</th>\n",
       "      <td>ham</td>\n",
       "      <td>Nah I don't think he goes to usf, he lives aro...</td>\n",
       "      <td>61</td>\n",
       "    </tr>\n",
       "  </tbody>\n",
       "</table>\n",
       "</div>"
      ],
      "text/plain": [
       "  label                                               text  length_text\n",
       "0   ham  Go until jurong point, crazy.. Available only ...          111\n",
       "1   ham                      Ok lar... Joking wif u oni...           29\n",
       "2  spam  Free entry in 2 a wkly comp to win FA Cup fina...          155\n",
       "3   ham  U dun say so early hor... U c already then say...           49\n",
       "4   ham  Nah I don't think he goes to usf, he lives aro...           61"
      ]
     },
     "execution_count": 123,
     "metadata": {},
     "output_type": "execute_result"
    }
   ],
   "source": [
    "df['length_text'] = df['text'].apply(len)\n",
    "df.head()"
   ]
  },
  {
   "cell_type": "code",
   "execution_count": 124,
   "metadata": {},
   "outputs": [
    {
     "data": {
      "image/png": "[encoded data removed]",
      "text/plain": [
       "<Figure size 864x576 with 1 Axes>"
      ]
     },
     "metadata": {},
     "output_type": "display_data"
    }
   ],
   "source": [
    "# Plot correlation between length and label\n",
    "fig = plt.figure(figsize=(12, 8))\n",
    "sns.histplot(\n",
    "    x = df['length_text'],\n",
    "    hue = df['label']\n",
    ")\n",
    "plt.title(\"ham & spam label, length comparision\")\n",
    "plt.show()"
   ]
  },
  {
   "cell_type": "code",
   "execution_count": 125,
   "metadata": {},
   "outputs": [
    {
     "data": {
      "text/plain": [
       "count    4825.000000\n",
       "mean       71.023627\n",
       "std        58.016023\n",
       "min         2.000000\n",
       "25%        33.000000\n",
       "50%        52.000000\n",
       "75%        92.000000\n",
       "max       910.000000\n",
       "Name: length_text, dtype: float64"
      ]
     },
     "execution_count": 125,
     "metadata": {},
     "output_type": "execute_result"
    }
   ],
   "source": [
    "df[df['label'] == 'ham']['length_text'].describe()"
   ]
  },
  {
   "cell_type": "code",
   "execution_count": 126,
   "metadata": {},
   "outputs": [
    {
     "data": {
      "text/plain": [
       "count    747.000000\n",
       "mean     138.866131\n",
       "std       29.183082\n",
       "min       13.000000\n",
       "25%      132.500000\n",
       "50%      149.000000\n",
       "75%      157.000000\n",
       "max      224.000000\n",
       "Name: length_text, dtype: float64"
      ]
     },
     "execution_count": 126,
     "metadata": {},
     "output_type": "execute_result"
    }
   ],
   "source": [
    "df[df['label'] == 'spam']['length_text'].describe()"
   ]
  },
  {
   "cell_type": "code",
   "execution_count": 127,
   "metadata": {},
   "outputs": [
    {
     "data": {
      "text/plain": [
       "(array(['ham', 'spam'], dtype=object), array([4825,  747], dtype=int64))"
      ]
     },
     "execution_count": 127,
     "metadata": {},
     "output_type": "execute_result"
    }
   ],
   "source": [
    "label_check = np.unique(df['label'], return_counts=True)\n",
    "label_check"
   ]
  },
  {
   "cell_type": "code",
   "execution_count": 128,
   "metadata": {},
   "outputs": [
    {
     "data": {
      "text/plain": [
       "{'ham': 4825, 'spam': 747}"
      ]
     },
     "execution_count": 128,
     "metadata": {},
     "output_type": "execute_result"
    }
   ],
   "source": [
    "label_count = {str(label_check[0][0]): label_check[1][0], str(label_check[0][1]): label_check[1][1]}\n",
    "label_count"
   ]
  },
  {
   "cell_type": "code",
   "execution_count": 129,
   "metadata": {},
   "outputs": [
    {
     "name": "stdout",
     "output_type": "stream",
     "text": [
      "ham contain 86.59% of all\n",
      "spam contain 13.41% of all\n"
     ]
    }
   ],
   "source": [
    "print('ham contain {:.2f}% of all'.format(label_count['ham'] / sum(label_count.values()) * 100))\n",
    "print('spam contain {:.2f}% of all'.format(label_count['spam'] / sum(label_count.values()) * 100))"
   ]
  },
  {
   "cell_type": "markdown",
   "metadata": {},
   "source": [
    "We can see, it's very different between percent of ham and spam.\n",
    "So i will balance it now."
   ]
  },
  {
   "cell_type": "code",
   "execution_count": 130,
   "metadata": {},
   "outputs": [
    {
     "name": "stdout",
     "output_type": "stream",
     "text": [
      "- minority_indices: Int64Index([   2,    5,    8,    9,   11,   12,   15,   19,   34,   42,\n",
      "            ...\n",
      "            5492, 5497, 5501, 5524, 5526, 5537, 5540, 5547, 5566, 5567],\n",
      "           dtype='int64', length=747)\n",
      "- majority_indices: Int64Index([   0,    1,    3,    4,    6,    7,   10,   13,   14,   16,\n",
      "            ...\n",
      "            5560, 5561, 5562, 5563, 5564, 5565, 5568, 5569, 5570, 5571],\n",
      "           dtype='int64', length=4825)\n"
     ]
    }
   ],
   "source": [
    "#compute the length of majority & minority class\n",
    "minority_length = len(df[df['label'] == \"spam\"])\n",
    "majority_length = len(df[df['label'] == \"ham\"])\n",
    "\n",
    "#store the indices of majority and minority class\n",
    "minority_indices = df[df['label'] == \"spam\"].index\n",
    "majority_indices = df[df['label'] == \"ham\"].index\n",
    "print(\"- minority_indices: \" + str(minority_indices))\n",
    "print(\"- majority_indices: \" + str(majority_indices))"
   ]
  },
  {
   "cell_type": "code",
   "execution_count": 131,
   "metadata": {},
   "outputs": [
    {
     "data": {
      "text/plain": [
       "[True, True, True, True, True, True, True, True, True, True]"
      ]
     },
     "execution_count": 131,
     "metadata": {},
     "output_type": "execute_result"
    }
   ],
   "source": [
    "# generate new majority indices from total majority_indices\n",
    "# We want obtain equivalent number of indices length, so i will use size equal to minority class length\n",
    "random_majority_indices = np.random.choice(\n",
    "    majority_indices,\n",
    "    size=minority_length,\n",
    "    replace=False\n",
    ")\n",
    "\n",
    "# Test output\n",
    "[x in majority_indices for x in random_majority_indices[:10]]\n"
   ]
  },
  {
   "cell_type": "code",
   "execution_count": 132,
   "metadata": {},
   "outputs": [
    {
     "data": {
      "text/plain": [
       "array([   2,    5,    8, ..., 1067, 3291, 4055], dtype=int64)"
      ]
     },
     "execution_count": 132,
     "metadata": {},
     "output_type": "execute_result"
    }
   ],
   "source": [
    "samples_indices = np.concatenate([minority_indices, random_majority_indices])\n",
    "samples_indices"
   ]
  },
  {
   "cell_type": "code",
   "execution_count": 133,
   "metadata": {},
   "outputs": [
    {
     "data": {
      "text/html": [
       "<div>\n",
       "<style scoped>\n",
       "    .dataframe tbody tr th:only-of-type {\n",
       "        vertical-align: middle;\n",
       "    }\n",
       "\n",
       "    .dataframe tbody tr th {\n",
       "        vertical-align: top;\n",
       "    }\n",
       "\n",
       "    .dataframe thead th {\n",
       "        text-align: right;\n",
       "    }\n",
       "</style>\n",
       "<table border=\"1\" class=\"dataframe\">\n",
       "  <thead>\n",
       "    <tr style=\"text-align: right;\">\n",
       "      <th></th>\n",
       "      <th>label</th>\n",
       "      <th>text</th>\n",
       "      <th>length_text</th>\n",
       "    </tr>\n",
       "  </thead>\n",
       "  <tbody>\n",
       "    <tr>\n",
       "      <th>2</th>\n",
       "      <td>spam</td>\n",
       "      <td>Free entry in 2 a wkly comp to win FA Cup fina...</td>\n",
       "      <td>155</td>\n",
       "    </tr>\n",
       "    <tr>\n",
       "      <th>5</th>\n",
       "      <td>spam</td>\n",
       "      <td>FreeMsg Hey there darling it's been 3 week's n...</td>\n",
       "      <td>148</td>\n",
       "    </tr>\n",
       "    <tr>\n",
       "      <th>8</th>\n",
       "      <td>spam</td>\n",
       "      <td>WINNER!! As a valued network customer you have...</td>\n",
       "      <td>158</td>\n",
       "    </tr>\n",
       "    <tr>\n",
       "      <th>9</th>\n",
       "      <td>spam</td>\n",
       "      <td>Had your mobile 11 months or more? U R entitle...</td>\n",
       "      <td>154</td>\n",
       "    </tr>\n",
       "    <tr>\n",
       "      <th>11</th>\n",
       "      <td>spam</td>\n",
       "      <td>SIX chances to win CASH! From 100 to 20,000 po...</td>\n",
       "      <td>136</td>\n",
       "    </tr>\n",
       "    <tr>\n",
       "      <th>...</th>\n",
       "      <td>...</td>\n",
       "      <td>...</td>\n",
       "      <td>...</td>\n",
       "    </tr>\n",
       "    <tr>\n",
       "      <th>420</th>\n",
       "      <td>ham</td>\n",
       "      <td>Yes:)from last week itself i'm taking live call.</td>\n",
       "      <td>48</td>\n",
       "    </tr>\n",
       "    <tr>\n",
       "      <th>4002</th>\n",
       "      <td>ham</td>\n",
       "      <td>somewhere out there beneath the pale moon ligh...</td>\n",
       "      <td>144</td>\n",
       "    </tr>\n",
       "    <tr>\n",
       "      <th>1067</th>\n",
       "      <td>ham</td>\n",
       "      <td>Meeting u is my work. . . Tel me when shall i ...</td>\n",
       "      <td>65</td>\n",
       "    </tr>\n",
       "    <tr>\n",
       "      <th>3291</th>\n",
       "      <td>ham</td>\n",
       "      <td>Dear good morning how you feeling dear</td>\n",
       "      <td>38</td>\n",
       "    </tr>\n",
       "    <tr>\n",
       "      <th>4055</th>\n",
       "      <td>ham</td>\n",
       "      <td>Ha ha nan yalrigu heltini..Iyo kothi chikku, u...</td>\n",
       "      <td>255</td>\n",
       "    </tr>\n",
       "  </tbody>\n",
       "</table>\n",
       "<p>1494 rows × 3 columns</p>\n",
       "</div>"
      ],
      "text/plain": [
       "     label                                               text  length_text\n",
       "2     spam  Free entry in 2 a wkly comp to win FA Cup fina...          155\n",
       "5     spam  FreeMsg Hey there darling it's been 3 week's n...          148\n",
       "8     spam  WINNER!! As a valued network customer you have...          158\n",
       "9     spam  Had your mobile 11 months or more? U R entitle...          154\n",
       "11    spam  SIX chances to win CASH! From 100 to 20,000 po...          136\n",
       "...    ...                                                ...          ...\n",
       "420    ham   Yes:)from last week itself i'm taking live call.           48\n",
       "4002   ham  somewhere out there beneath the pale moon ligh...          144\n",
       "1067   ham  Meeting u is my work. . . Tel me when shall i ...           65\n",
       "3291   ham             Dear good morning how you feeling dear           38\n",
       "4055   ham  Ha ha nan yalrigu heltini..Iyo kothi chikku, u...          255\n",
       "\n",
       "[1494 rows x 3 columns]"
      ]
     },
     "execution_count": 133,
     "metadata": {},
     "output_type": "execute_result"
    }
   ],
   "source": [
    "#create df using new indices\n",
    "df = df.loc[samples_indices]\n",
    "df"
   ]
  },
  {
   "cell_type": "code",
   "execution_count": 134,
   "metadata": {},
   "outputs": [
    {
     "data": {
      "text/plain": [
       "(1494, 3)"
      ]
     },
     "execution_count": 134,
     "metadata": {},
     "output_type": "execute_result"
    }
   ],
   "source": [
    "df.shape"
   ]
  },
  {
   "cell_type": "code",
   "execution_count": 135,
   "metadata": {},
   "outputs": [
    {
     "data": {
      "text/html": [
       "<div>\n",
       "<style scoped>\n",
       "    .dataframe tbody tr th:only-of-type {\n",
       "        vertical-align: middle;\n",
       "    }\n",
       "\n",
       "    .dataframe tbody tr th {\n",
       "        vertical-align: top;\n",
       "    }\n",
       "\n",
       "    .dataframe thead th {\n",
       "        text-align: right;\n",
       "    }\n",
       "</style>\n",
       "<table border=\"1\" class=\"dataframe\">\n",
       "  <thead>\n",
       "    <tr style=\"text-align: right;\">\n",
       "      <th></th>\n",
       "      <th>label</th>\n",
       "      <th>text</th>\n",
       "      <th>length_text</th>\n",
       "    </tr>\n",
       "  </thead>\n",
       "  <tbody>\n",
       "    <tr>\n",
       "      <th>683</th>\n",
       "      <td>spam</td>\n",
       "      <td>Hi I'm sue. I am 20 years old and work as a la...</td>\n",
       "      <td>158</td>\n",
       "    </tr>\n",
       "    <tr>\n",
       "      <th>4591</th>\n",
       "      <td>ham</td>\n",
       "      <td>Right it wasnt you who phoned it was someone w...</td>\n",
       "      <td>70</td>\n",
       "    </tr>\n",
       "    <tr>\n",
       "      <th>4899</th>\n",
       "      <td>spam</td>\n",
       "      <td>ou are guaranteed the latest Nokia Phone, a 40...</td>\n",
       "      <td>146</td>\n",
       "    </tr>\n",
       "    <tr>\n",
       "      <th>5214</th>\n",
       "      <td>spam</td>\n",
       "      <td>Natalja (25/F) is inviting you to be her frien...</td>\n",
       "      <td>136</td>\n",
       "    </tr>\n",
       "    <tr>\n",
       "      <th>2926</th>\n",
       "      <td>ham</td>\n",
       "      <td>Ok... U enjoy ur shows...</td>\n",
       "      <td>25</td>\n",
       "    </tr>\n",
       "  </tbody>\n",
       "</table>\n",
       "</div>"
      ],
      "text/plain": [
       "     label                                               text  length_text\n",
       "683   spam  Hi I'm sue. I am 20 years old and work as a la...          158\n",
       "4591   ham  Right it wasnt you who phoned it was someone w...           70\n",
       "4899  spam  ou are guaranteed the latest Nokia Phone, a 40...          146\n",
       "5214  spam  Natalja (25/F) is inviting you to be her frien...          136\n",
       "2926   ham                          Ok... U enjoy ur shows...           25"
      ]
     },
     "execution_count": 135,
     "metadata": {},
     "output_type": "execute_result"
    }
   ],
   "source": [
    "#shuffle the sample\n",
    "df=df.sample(frac=1)\n",
    "df.head()"
   ]
  },
  {
   "cell_type": "code",
   "execution_count": 136,
   "metadata": {},
   "outputs": [
    {
     "data": {
      "text/html": [
       "<div>\n",
       "<style scoped>\n",
       "    .dataframe tbody tr th:only-of-type {\n",
       "        vertical-align: middle;\n",
       "    }\n",
       "\n",
       "    .dataframe tbody tr th {\n",
       "        vertical-align: top;\n",
       "    }\n",
       "\n",
       "    .dataframe thead th {\n",
       "        text-align: right;\n",
       "    }\n",
       "</style>\n",
       "<table border=\"1\" class=\"dataframe\">\n",
       "  <thead>\n",
       "    <tr style=\"text-align: right;\">\n",
       "      <th></th>\n",
       "      <th>label</th>\n",
       "      <th>text</th>\n",
       "      <th>length_text</th>\n",
       "    </tr>\n",
       "  </thead>\n",
       "  <tbody>\n",
       "    <tr>\n",
       "      <th>0</th>\n",
       "      <td>spam</td>\n",
       "      <td>Hi I'm sue. I am 20 years old and work as a la...</td>\n",
       "      <td>158</td>\n",
       "    </tr>\n",
       "    <tr>\n",
       "      <th>1</th>\n",
       "      <td>ham</td>\n",
       "      <td>Right it wasnt you who phoned it was someone w...</td>\n",
       "      <td>70</td>\n",
       "    </tr>\n",
       "    <tr>\n",
       "      <th>2</th>\n",
       "      <td>spam</td>\n",
       "      <td>ou are guaranteed the latest Nokia Phone, a 40...</td>\n",
       "      <td>146</td>\n",
       "    </tr>\n",
       "    <tr>\n",
       "      <th>3</th>\n",
       "      <td>spam</td>\n",
       "      <td>Natalja (25/F) is inviting you to be her frien...</td>\n",
       "      <td>136</td>\n",
       "    </tr>\n",
       "    <tr>\n",
       "      <th>4</th>\n",
       "      <td>ham</td>\n",
       "      <td>Ok... U enjoy ur shows...</td>\n",
       "      <td>25</td>\n",
       "    </tr>\n",
       "  </tbody>\n",
       "</table>\n",
       "</div>"
      ],
      "text/plain": [
       "  label                                               text  length_text\n",
       "0  spam  Hi I'm sue. I am 20 years old and work as a la...          158\n",
       "1   ham  Right it wasnt you who phoned it was someone w...           70\n",
       "2  spam  ou are guaranteed the latest Nokia Phone, a 40...          146\n",
       "3  spam  Natalja (25/F) is inviting you to be her frien...          136\n",
       "4   ham                          Ok... U enjoy ur shows...           25"
      ]
     },
     "execution_count": 136,
     "metadata": {},
     "output_type": "execute_result"
    }
   ],
   "source": [
    "#reset the index as its all mixed\n",
    "df=df.reset_index()\n",
    "df.drop(['index'], axis=1, inplace=True)\n",
    "df.head()"
   ]
  },
  {
   "cell_type": "code",
   "execution_count": 137,
   "metadata": {},
   "outputs": [
    {
     "data": {
      "text/plain": [
       "(array(['ham', 'spam'], dtype=object), array([747, 747], dtype=int64))"
      ]
     },
     "execution_count": 137,
     "metadata": {},
     "output_type": "execute_result"
    }
   ],
   "source": [
    "np.unique(df['label'], return_counts=True)"
   ]
  },
  {
   "cell_type": "code",
   "execution_count": 138,
   "metadata": {},
   "outputs": [
    {
     "data": {
      "image/png": "[encoded data removed]",
      "text/plain": [
       "<Figure size 432x288 with 1 Axes>"
      ]
     },
     "metadata": {},
     "output_type": "display_data"
    }
   ],
   "source": [
    "sns.countplot(\n",
    "    data=df,\n",
    "    x='label'\n",
    ")\n",
    "plt.title('ham vs spam')\n",
    "plt.show()"
   ]
  },
  {
   "cell_type": "markdown",
   "metadata": {},
   "source": [
    "### 2. Feature Extractions"
   ]
  },
  {
   "cell_type": "markdown",
   "metadata": {},
   "source": [
    "- #### First, i have number of character in 'length_text'\n",
    "- #### Now, let's check how many words in each text?"
   ]
  },
  {
   "cell_type": "code",
   "execution_count": 139,
   "metadata": {},
   "outputs": [
    {
     "data": {
      "text/html": [
       "<div>\n",
       "<style scoped>\n",
       "    .dataframe tbody tr th:only-of-type {\n",
       "        vertical-align: middle;\n",
       "    }\n",
       "\n",
       "    .dataframe tbody tr th {\n",
       "        vertical-align: top;\n",
       "    }\n",
       "\n",
       "    .dataframe thead th {\n",
       "        text-align: right;\n",
       "    }\n",
       "</style>\n",
       "<table border=\"1\" class=\"dataframe\">\n",
       "  <thead>\n",
       "    <tr style=\"text-align: right;\">\n",
       "      <th></th>\n",
       "      <th>label</th>\n",
       "      <th>text</th>\n",
       "      <th>length_text</th>\n",
       "      <th>word_count</th>\n",
       "    </tr>\n",
       "  </thead>\n",
       "  <tbody>\n",
       "    <tr>\n",
       "      <th>0</th>\n",
       "      <td>spam</td>\n",
       "      <td>Hi I'm sue. I am 20 years old and work as a la...</td>\n",
       "      <td>158</td>\n",
       "      <td>35</td>\n",
       "    </tr>\n",
       "    <tr>\n",
       "      <th>1</th>\n",
       "      <td>ham</td>\n",
       "      <td>Right it wasnt you who phoned it was someone w...</td>\n",
       "      <td>70</td>\n",
       "      <td>14</td>\n",
       "    </tr>\n",
       "    <tr>\n",
       "      <th>2</th>\n",
       "      <td>spam</td>\n",
       "      <td>ou are guaranteed the latest Nokia Phone, a 40...</td>\n",
       "      <td>146</td>\n",
       "      <td>25</td>\n",
       "    </tr>\n",
       "    <tr>\n",
       "      <th>3</th>\n",
       "      <td>spam</td>\n",
       "      <td>Natalja (25/F) is inviting you to be her frien...</td>\n",
       "      <td>136</td>\n",
       "      <td>22</td>\n",
       "    </tr>\n",
       "    <tr>\n",
       "      <th>4</th>\n",
       "      <td>ham</td>\n",
       "      <td>Ok... U enjoy ur shows...</td>\n",
       "      <td>25</td>\n",
       "      <td>5</td>\n",
       "    </tr>\n",
       "  </tbody>\n",
       "</table>\n",
       "</div>"
      ],
      "text/plain": [
       "  label                                               text  length_text  \\\n",
       "0  spam  Hi I'm sue. I am 20 years old and work as a la...          158   \n",
       "1   ham  Right it wasnt you who phoned it was someone w...           70   \n",
       "2  spam  ou are guaranteed the latest Nokia Phone, a 40...          146   \n",
       "3  spam  Natalja (25/F) is inviting you to be her frien...          136   \n",
       "4   ham                          Ok... U enjoy ur shows...           25   \n",
       "\n",
       "   word_count  \n",
       "0          35  \n",
       "1          14  \n",
       "2          25  \n",
       "3          22  \n",
       "4           5  "
      ]
     },
     "execution_count": 139,
     "metadata": {},
     "output_type": "execute_result"
    }
   ],
   "source": [
    "df['word_count'] = df['text'].apply(lambda x: len(x.split(\" \")))\n",
    "df.head(5)"
   ]
  },
  {
   "cell_type": "code",
   "execution_count": 140,
   "metadata": {},
   "outputs": [
    {
     "data": {
      "image/png": "[encoded data removed]",
      "text/plain": [
       "<Figure size 864x576 with 1 Axes>"
      ]
     },
     "metadata": {},
     "output_type": "display_data"
    }
   ],
   "source": [
    "fig = plt.figure(figsize=(12, 8))\n",
    "sns.histplot(\n",
    "    x = df['word_count'],\n",
    "    hue = df['label']\n",
    ")\n",
    "plt.xlabel('Word Count', labelpad=15, fontsize=15)\n",
    "plt.ylabel('Count', labelpad=15, fontsize=15)\n",
    "plt.title(\"Ham & spam label, word_count comparision\", pad=20, fontsize=20)\n",
    "plt.show()"
   ]
  },
  {
   "cell_type": "markdown",
   "metadata": {},
   "source": [
    "- #### Average word length can also potentially help me in improving my model"
   ]
  },
  {
   "cell_type": "code",
   "execution_count": 141,
   "metadata": {},
   "outputs": [],
   "source": [
    "def avg_word_len(text):\n",
    "    words = text.split(\" \")\n",
    "    return (sum(len(word) for word in words) / len(words))"
   ]
  },
  {
   "cell_type": "code",
   "execution_count": 142,
   "metadata": {},
   "outputs": [
    {
     "data": {
      "text/html": [
       "<div>\n",
       "<style scoped>\n",
       "    .dataframe tbody tr th:only-of-type {\n",
       "        vertical-align: middle;\n",
       "    }\n",
       "\n",
       "    .dataframe tbody tr th {\n",
       "        vertical-align: top;\n",
       "    }\n",
       "\n",
       "    .dataframe thead th {\n",
       "        text-align: right;\n",
       "    }\n",
       "</style>\n",
       "<table border=\"1\" class=\"dataframe\">\n",
       "  <thead>\n",
       "    <tr style=\"text-align: right;\">\n",
       "      <th></th>\n",
       "      <th>label</th>\n",
       "      <th>text</th>\n",
       "      <th>length_text</th>\n",
       "      <th>word_count</th>\n",
       "      <th>avg_word_len</th>\n",
       "    </tr>\n",
       "  </thead>\n",
       "  <tbody>\n",
       "    <tr>\n",
       "      <th>0</th>\n",
       "      <td>spam</td>\n",
       "      <td>Hi I'm sue. I am 20 years old and work as a la...</td>\n",
       "      <td>158</td>\n",
       "      <td>35</td>\n",
       "      <td>3.542857</td>\n",
       "    </tr>\n",
       "    <tr>\n",
       "      <th>1</th>\n",
       "      <td>ham</td>\n",
       "      <td>Right it wasnt you who phoned it was someone w...</td>\n",
       "      <td>70</td>\n",
       "      <td>14</td>\n",
       "      <td>4.071429</td>\n",
       "    </tr>\n",
       "    <tr>\n",
       "      <th>2</th>\n",
       "      <td>spam</td>\n",
       "      <td>ou are guaranteed the latest Nokia Phone, a 40...</td>\n",
       "      <td>146</td>\n",
       "      <td>25</td>\n",
       "      <td>4.880000</td>\n",
       "    </tr>\n",
       "    <tr>\n",
       "      <th>3</th>\n",
       "      <td>spam</td>\n",
       "      <td>Natalja (25/F) is inviting you to be her frien...</td>\n",
       "      <td>136</td>\n",
       "      <td>22</td>\n",
       "      <td>5.227273</td>\n",
       "    </tr>\n",
       "    <tr>\n",
       "      <th>4</th>\n",
       "      <td>ham</td>\n",
       "      <td>Ok... U enjoy ur shows...</td>\n",
       "      <td>25</td>\n",
       "      <td>5</td>\n",
       "      <td>4.200000</td>\n",
       "    </tr>\n",
       "  </tbody>\n",
       "</table>\n",
       "</div>"
      ],
      "text/plain": [
       "  label                                               text  length_text  \\\n",
       "0  spam  Hi I'm sue. I am 20 years old and work as a la...          158   \n",
       "1   ham  Right it wasnt you who phoned it was someone w...           70   \n",
       "2  spam  ou are guaranteed the latest Nokia Phone, a 40...          146   \n",
       "3  spam  Natalja (25/F) is inviting you to be her frien...          136   \n",
       "4   ham                          Ok... U enjoy ur shows...           25   \n",
       "\n",
       "   word_count  avg_word_len  \n",
       "0          35      3.542857  \n",
       "1          14      4.071429  \n",
       "2          25      4.880000  \n",
       "3          22      5.227273  \n",
       "4           5      4.200000  "
      ]
     },
     "execution_count": 142,
     "metadata": {},
     "output_type": "execute_result"
    }
   ],
   "source": [
    "df['avg_word_len'] = df['text'].apply(lambda x:avg_word_len(x))\n",
    "df.head()"
   ]
  },
  {
   "cell_type": "code",
   "execution_count": 143,
   "metadata": {},
   "outputs": [
    {
     "data": {
      "image/png": "[encoded data removed]",
      "text/plain": [
       "<Figure size 864x576 with 1 Axes>"
      ]
     },
     "metadata": {},
     "output_type": "display_data"
    }
   ],
   "source": [
    "fig = plt.figure(figsize=(12, 8))\n",
    "sns.histplot(\n",
    "    x = df['avg_word_len'],\n",
    "    hue = df['label']\n",
    ")\n",
    "plt.xlabel('Average Word Length', labelpad=15, fontsize=15)\n",
    "plt.ylabel('Count', labelpad=15, fontsize=15)\n",
    "plt.title(\"Ham & spam label, Average Word Length comparision\", pad=20, fontsize=20)\n",
    "plt.show()"
   ]
  },
  {
   "cell_type": "markdown",
   "metadata": {},
   "source": [
    "- #### Number of stop_words\n",
    "While solving NLP problems, we usually remove stop_word first. But sometimes, calculating the number of stopword can give us some extra information which we might remove before."
   ]
  },
  {
   "cell_type": "code",
   "execution_count": 144,
   "metadata": {},
   "outputs": [
    {
     "data": {
      "text/html": [
       "<div>\n",
       "<style scoped>\n",
       "    .dataframe tbody tr th:only-of-type {\n",
       "        vertical-align: middle;\n",
       "    }\n",
       "\n",
       "    .dataframe tbody tr th {\n",
       "        vertical-align: top;\n",
       "    }\n",
       "\n",
       "    .dataframe thead th {\n",
       "        text-align: right;\n",
       "    }\n",
       "</style>\n",
       "<table border=\"1\" class=\"dataframe\">\n",
       "  <thead>\n",
       "    <tr style=\"text-align: right;\">\n",
       "      <th></th>\n",
       "      <th>label</th>\n",
       "      <th>text</th>\n",
       "      <th>length_text</th>\n",
       "      <th>word_count</th>\n",
       "      <th>avg_word_len</th>\n",
       "      <th>num_stop_w</th>\n",
       "    </tr>\n",
       "  </thead>\n",
       "  <tbody>\n",
       "    <tr>\n",
       "      <th>0</th>\n",
       "      <td>spam</td>\n",
       "      <td>Hi I'm sue. I am 20 years old and work as a la...</td>\n",
       "      <td>158</td>\n",
       "      <td>35</td>\n",
       "      <td>3.542857</td>\n",
       "      <td>8</td>\n",
       "    </tr>\n",
       "    <tr>\n",
       "      <th>1</th>\n",
       "      <td>ham</td>\n",
       "      <td>Right it wasnt you who phoned it was someone w...</td>\n",
       "      <td>70</td>\n",
       "      <td>14</td>\n",
       "      <td>4.071429</td>\n",
       "      <td>7</td>\n",
       "    </tr>\n",
       "    <tr>\n",
       "      <th>2</th>\n",
       "      <td>spam</td>\n",
       "      <td>ou are guaranteed the latest Nokia Phone, a 40...</td>\n",
       "      <td>146</td>\n",
       "      <td>25</td>\n",
       "      <td>4.880000</td>\n",
       "      <td>6</td>\n",
       "    </tr>\n",
       "    <tr>\n",
       "      <th>3</th>\n",
       "      <td>spam</td>\n",
       "      <td>Natalja (25/F) is inviting you to be her frien...</td>\n",
       "      <td>136</td>\n",
       "      <td>22</td>\n",
       "      <td>5.227273</td>\n",
       "      <td>7</td>\n",
       "    </tr>\n",
       "    <tr>\n",
       "      <th>4</th>\n",
       "      <td>ham</td>\n",
       "      <td>Ok... U enjoy ur shows...</td>\n",
       "      <td>25</td>\n",
       "      <td>5</td>\n",
       "      <td>4.200000</td>\n",
       "      <td>0</td>\n",
       "    </tr>\n",
       "  </tbody>\n",
       "</table>\n",
       "</div>"
      ],
      "text/plain": [
       "  label                                               text  length_text  \\\n",
       "0  spam  Hi I'm sue. I am 20 years old and work as a la...          158   \n",
       "1   ham  Right it wasnt you who phoned it was someone w...           70   \n",
       "2  spam  ou are guaranteed the latest Nokia Phone, a 40...          146   \n",
       "3  spam  Natalja (25/F) is inviting you to be her frien...          136   \n",
       "4   ham                          Ok... U enjoy ur shows...           25   \n",
       "\n",
       "   word_count  avg_word_len  num_stop_w  \n",
       "0          35      3.542857           8  \n",
       "1          14      4.071429           7  \n",
       "2          25      4.880000           6  \n",
       "3          22      5.227273           7  \n",
       "4           5      4.200000           0  "
      ]
     },
     "execution_count": 144,
     "metadata": {},
     "output_type": "execute_result"
    }
   ],
   "source": [
    "from nltk.corpus import stopwords\n",
    "stop_w = stopwords.words('English')\n",
    "df['num_stop_w'] = df['text'].apply(lambda x: len([word for word in x.split(\" \") if word in stop_w]))\n",
    "df.head()"
   ]
  },
  {
   "cell_type": "code",
   "execution_count": 145,
   "metadata": {},
   "outputs": [
    {
     "data": {
      "image/png": "[encoded data removed]",
      "text/plain": [
       "<Figure size 864x576 with 1 Axes>"
      ]
     },
     "metadata": {},
     "output_type": "display_data"
    }
   ],
   "source": [
    "fig = plt.figure(figsize=(12, 8))\n",
    "sns.histplot(\n",
    "    x = df['num_stop_w'],\n",
    "    hue = df['label']\n",
    ")\n",
    "plt.xlabel('Number of StopWord', labelpad=15, fontsize=15)\n",
    "plt.ylabel('Count', labelpad=15, fontsize=15)\n",
    "plt.title(\"Ham & spam label, Number of StopWord comparision\", pad=20, fontsize=20)\n",
    "plt.show()"
   ]
  },
  {
   "cell_type": "markdown",
   "metadata": {},
   "source": [
    "- #### Number of special character.\n",
    "It seem more special character, it will be spam. Let's check this condition."
   ]
  },
  {
   "cell_type": "code",
   "execution_count": 146,
   "metadata": {},
   "outputs": [
    {
     "data": {
      "text/plain": [
       "'!\"#$%&\\'()*+,-./:;<=>?@[\\\\]^_`{|}~'"
      ]
     },
     "execution_count": 146,
     "metadata": {},
     "output_type": "execute_result"
    }
   ],
   "source": [
    "import string\n",
    "string.punctuation"
   ]
  },
  {
   "cell_type": "code",
   "execution_count": 147,
   "metadata": {},
   "outputs": [
    {
     "data": {
      "text/html": [
       "<div>\n",
       "<style scoped>\n",
       "    .dataframe tbody tr th:only-of-type {\n",
       "        vertical-align: middle;\n",
       "    }\n",
       "\n",
       "    .dataframe tbody tr th {\n",
       "        vertical-align: top;\n",
       "    }\n",
       "\n",
       "    .dataframe thead th {\n",
       "        text-align: right;\n",
       "    }\n",
       "</style>\n",
       "<table border=\"1\" class=\"dataframe\">\n",
       "  <thead>\n",
       "    <tr style=\"text-align: right;\">\n",
       "      <th></th>\n",
       "      <th>label</th>\n",
       "      <th>text</th>\n",
       "      <th>num_special_char</th>\n",
       "    </tr>\n",
       "  </thead>\n",
       "  <tbody>\n",
       "    <tr>\n",
       "      <th>0</th>\n",
       "      <td>spam</td>\n",
       "      <td>Hi I'm sue. I am 20 years old and work as a la...</td>\n",
       "      <td>9</td>\n",
       "    </tr>\n",
       "    <tr>\n",
       "      <th>1</th>\n",
       "      <td>ham</td>\n",
       "      <td>Right it wasnt you who phoned it was someone w...</td>\n",
       "      <td>1</td>\n",
       "    </tr>\n",
       "    <tr>\n",
       "      <th>2</th>\n",
       "      <td>spam</td>\n",
       "      <td>ou are guaranteed the latest Nokia Phone, a 40...</td>\n",
       "      <td>6</td>\n",
       "    </tr>\n",
       "    <tr>\n",
       "      <th>3</th>\n",
       "      <td>spam</td>\n",
       "      <td>Natalja (25/F) is inviting you to be her frien...</td>\n",
       "      <td>12</td>\n",
       "    </tr>\n",
       "    <tr>\n",
       "      <th>4</th>\n",
       "      <td>ham</td>\n",
       "      <td>Ok... U enjoy ur shows...</td>\n",
       "      <td>6</td>\n",
       "    </tr>\n",
       "  </tbody>\n",
       "</table>\n",
       "</div>"
      ],
      "text/plain": [
       "  label                                               text  num_special_char\n",
       "0  spam  Hi I'm sue. I am 20 years old and work as a la...                 9\n",
       "1   ham  Right it wasnt you who phoned it was someone w...                 1\n",
       "2  spam  ou are guaranteed the latest Nokia Phone, a 40...                 6\n",
       "3  spam  Natalja (25/F) is inviting you to be her frien...                12\n",
       "4   ham                          Ok... U enjoy ur shows...                 6"
      ]
     },
     "execution_count": 147,
     "metadata": {},
     "output_type": "execute_result"
    }
   ],
   "source": [
    "df['num_special_char'] = df['text'].apply(lambda x: len([char for char in x if char in string.punctuation]))\n",
    "df[['label', 'text', 'num_special_char']].head()"
   ]
  },
  {
   "cell_type": "markdown",
   "metadata": {},
   "source": [
    "- #### Number of numerics\n",
    "- ##### It's also useful feature.\n",
    "+ depending on each problem, we can choose just count number of numerics like 1, 2, 34859 ... \n",
    "+ or count every word constain number in itself like 1, 2, 3rd, 4years, 3hf323, 8fs9df, $100 ...\n",
    "- In this case, i choose count every word constain number like a features."
   ]
  },
  {
   "cell_type": "code",
   "execution_count": 148,
   "metadata": {},
   "outputs": [
    {
     "data": {
      "text/html": [
       "<div>\n",
       "<style scoped>\n",
       "    .dataframe tbody tr th:only-of-type {\n",
       "        vertical-align: middle;\n",
       "    }\n",
       "\n",
       "    .dataframe tbody tr th {\n",
       "        vertical-align: top;\n",
       "    }\n",
       "\n",
       "    .dataframe thead th {\n",
       "        text-align: right;\n",
       "    }\n",
       "</style>\n",
       "<table border=\"1\" class=\"dataframe\">\n",
       "  <thead>\n",
       "    <tr style=\"text-align: right;\">\n",
       "      <th></th>\n",
       "      <th>label</th>\n",
       "      <th>text</th>\n",
       "      <th>contains_num</th>\n",
       "    </tr>\n",
       "  </thead>\n",
       "  <tbody>\n",
       "    <tr>\n",
       "      <th>0</th>\n",
       "      <td>spam</td>\n",
       "      <td>Hi I'm sue. I am 20 years old and work as a la...</td>\n",
       "      <td>14</td>\n",
       "    </tr>\n",
       "    <tr>\n",
       "      <th>1</th>\n",
       "      <td>ham</td>\n",
       "      <td>Right it wasnt you who phoned it was someone w...</td>\n",
       "      <td>0</td>\n",
       "    </tr>\n",
       "    <tr>\n",
       "      <th>2</th>\n",
       "      <td>spam</td>\n",
       "      <td>ou are guaranteed the latest Nokia Phone, a 40...</td>\n",
       "      <td>18</td>\n",
       "    </tr>\n",
       "    <tr>\n",
       "      <th>3</th>\n",
       "      <td>spam</td>\n",
       "      <td>Natalja (25/F) is inviting you to be her frien...</td>\n",
       "      <td>21</td>\n",
       "    </tr>\n",
       "    <tr>\n",
       "      <th>4</th>\n",
       "      <td>ham</td>\n",
       "      <td>Ok... U enjoy ur shows...</td>\n",
       "      <td>0</td>\n",
       "    </tr>\n",
       "  </tbody>\n",
       "</table>\n",
       "</div>"
      ],
      "text/plain": [
       "  label                                               text  contains_num\n",
       "0  spam  Hi I'm sue. I am 20 years old and work as a la...            14\n",
       "1   ham  Right it wasnt you who phoned it was someone w...             0\n",
       "2  spam  ou are guaranteed the latest Nokia Phone, a 40...            18\n",
       "3  spam  Natalja (25/F) is inviting you to be her frien...            21\n",
       "4   ham                          Ok... U enjoy ur shows...             0"
      ]
     },
     "execution_count": 148,
     "metadata": {},
     "output_type": "execute_result"
    }
   ],
   "source": [
    "df['contains_num'] = df['text'].apply(lambda x: len([word for word in x if any(map(str.isdigit, word))]))\n",
    "df[['label', 'text', 'contains_num']].head()"
   ]
  },
  {
   "cell_type": "markdown",
   "metadata": {},
   "source": [
    "- #### Number of UPCASEWORD"
   ]
  },
  {
   "cell_type": "code",
   "execution_count": 149,
   "metadata": {},
   "outputs": [
    {
     "data": {
      "text/html": [
       "<div>\n",
       "<style scoped>\n",
       "    .dataframe tbody tr th:only-of-type {\n",
       "        vertical-align: middle;\n",
       "    }\n",
       "\n",
       "    .dataframe tbody tr th {\n",
       "        vertical-align: top;\n",
       "    }\n",
       "\n",
       "    .dataframe thead th {\n",
       "        text-align: right;\n",
       "    }\n",
       "</style>\n",
       "<table border=\"1\" class=\"dataframe\">\n",
       "  <thead>\n",
       "    <tr style=\"text-align: right;\">\n",
       "      <th></th>\n",
       "      <th>label</th>\n",
       "      <th>text</th>\n",
       "      <th>num_upcase</th>\n",
       "    </tr>\n",
       "  </thead>\n",
       "  <tbody>\n",
       "    <tr>\n",
       "      <th>0</th>\n",
       "      <td>spam</td>\n",
       "      <td>Hi I'm sue. I am 20 years old and work as a la...</td>\n",
       "      <td>5</td>\n",
       "    </tr>\n",
       "    <tr>\n",
       "      <th>1</th>\n",
       "      <td>ham</td>\n",
       "      <td>Right it wasnt you who phoned it was someone w...</td>\n",
       "      <td>0</td>\n",
       "    </tr>\n",
       "    <tr>\n",
       "      <th>2</th>\n",
       "      <td>spam</td>\n",
       "      <td>ou are guaranteed the latest Nokia Phone, a 40...</td>\n",
       "      <td>3</td>\n",
       "    </tr>\n",
       "    <tr>\n",
       "      <th>3</th>\n",
       "      <td>spam</td>\n",
       "      <td>Natalja (25/F) is inviting you to be her frien...</td>\n",
       "      <td>6</td>\n",
       "    </tr>\n",
       "    <tr>\n",
       "      <th>4</th>\n",
       "      <td>ham</td>\n",
       "      <td>Ok... U enjoy ur shows...</td>\n",
       "      <td>1</td>\n",
       "    </tr>\n",
       "  </tbody>\n",
       "</table>\n",
       "</div>"
      ],
      "text/plain": [
       "  label                                               text  num_upcase\n",
       "0  spam  Hi I'm sue. I am 20 years old and work as a la...           5\n",
       "1   ham  Right it wasnt you who phoned it was someone w...           0\n",
       "2  spam  ou are guaranteed the latest Nokia Phone, a 40...           3\n",
       "3  spam  Natalja (25/F) is inviting you to be her frien...           6\n",
       "4   ham                          Ok... U enjoy ur shows...           1"
      ]
     },
     "execution_count": 149,
     "metadata": {},
     "output_type": "execute_result"
    }
   ],
   "source": [
    "df['num_upcase'] = df['text'].apply(lambda x: len([word for word in x.split(\" \") if word.isupper()]))\n",
    "df[['label', 'text', 'num_upcase']].head()"
   ]
  },
  {
   "cell_type": "markdown",
   "metadata": {},
   "source": [
    "### 3.Pre-processcing"
   ]
  },
  {
   "cell_type": "code",
   "execution_count": 150,
   "metadata": {},
   "outputs": [],
   "source": [
    "import nltk\n",
    "from nltk.tokenize import word_tokenize\n",
    "from nltk.stem import WordNetLemmatizer\n",
    "from nltk.corpus.reader import wordnet"
   ]
  },
  {
   "cell_type": "code",
   "execution_count": 151,
   "metadata": {},
   "outputs": [],
   "source": [
    "def tag(t):\n",
    "    if t.startswith(\"N\"):\n",
    "        return wordnet.NOUN\n",
    "    elif t.startswith(\"V\"):\n",
    "        return wordnet.VERB\n",
    "    elif t.startswith(\"R\"):\n",
    "        return wordnet.ADV\n",
    "    elif t.startswith(\"J\"):\n",
    "        return wordnet.ADJ\n",
    "    else:\n",
    "        return wordnet.NOUN"
   ]
  },
  {
   "cell_type": "code",
   "execution_count": 152,
   "metadata": {},
   "outputs": [],
   "source": [
    "def remove_num(text, num_only=False):\n",
    "    if not num_only:\n",
    "        # just remove number like 1, 123123, 55325794, ...\n",
    "        token = [w for w in text if not w.isdigit()]\n",
    "    else:\n",
    "        # remove all word which contains num like 1, 213, as89, 12th, 3rd ...\n",
    "        token = [w for w in text if not any(map(str.isdigit, w))]\n",
    "    return ' '.join(token)"
   ]
  },
  {
   "cell_type": "code",
   "execution_count": 153,
   "metadata": {},
   "outputs": [],
   "source": [
    "def clean_text(text, num_only=False):\n",
    "    \"\"\"\n",
    "    First of all, remove special character.\n",
    "    It doesn't any extra functions. So remove it help reduce size of data\n",
    "    string.punctuation contains all special character like @ $ # * & ...\n",
    "    # Another solutions:\n",
    "        df['text'].str.replace('[\\w\\s]', '')\n",
    "    \"\"\"\n",
    "    translators = str.maketrans(\"\", \"\", string.punctuation)\n",
    "    text = text.translate(translators)\n",
    "    \n",
    "    \"\"\"\n",
    "    Next, i will lowercase character and remove number.\n",
    "    If we don't lowercase, when count word, Basic and basic are 2 different word\n",
    "    This avoid mutiplies copy in same word.\n",
    "    \"\"\"\n",
    "    words = word_tokenize(text.lower())\n",
    "    tokens = word_tokenize(remove_num(words, False))\n",
    "    \n",
    "    \"\"\"\n",
    "    Then, remove stop word and word that length <= 1\n",
    "    Because, word has length <= 1 usually dont have meaning\n",
    "    \"\"\"\n",
    "    tokens = [w for w in tokens if w not in stop_w and len(w) > 1]\n",
    "    \n",
    "    return \" \".join(tokens)"
   ]
  },
  {
   "cell_type": "code",
   "execution_count": 154,
   "metadata": {},
   "outputs": [
    {
     "data": {
      "text/html": [
       "<div>\n",
       "<style scoped>\n",
       "    .dataframe tbody tr th:only-of-type {\n",
       "        vertical-align: middle;\n",
       "    }\n",
       "\n",
       "    .dataframe tbody tr th {\n",
       "        vertical-align: top;\n",
       "    }\n",
       "\n",
       "    .dataframe thead th {\n",
       "        text-align: right;\n",
       "    }\n",
       "</style>\n",
       "<table border=\"1\" class=\"dataframe\">\n",
       "  <thead>\n",
       "    <tr style=\"text-align: right;\">\n",
       "      <th></th>\n",
       "      <th>text</th>\n",
       "      <th>clean_text</th>\n",
       "    </tr>\n",
       "  </thead>\n",
       "  <tbody>\n",
       "    <tr>\n",
       "      <th>0</th>\n",
       "      <td>Hi I'm sue. I am 20 years old and work as a la...</td>\n",
       "      <td>hi im sue years old work lapdancer love sex te...</td>\n",
       "    </tr>\n",
       "    <tr>\n",
       "      <th>1</th>\n",
       "      <td>Right it wasnt you who phoned it was someone w...</td>\n",
       "      <td>right wasnt phoned someone number like</td>\n",
       "    </tr>\n",
       "    <tr>\n",
       "      <th>2</th>\n",
       "      <td>ou are guaranteed the latest Nokia Phone, a 40...</td>\n",
       "      <td>ou guaranteed latest nokia phone 40gb ipod mp3...</td>\n",
       "    </tr>\n",
       "    <tr>\n",
       "      <th>3</th>\n",
       "      <td>Natalja (25/F) is inviting you to be her frien...</td>\n",
       "      <td>natalja 25f inviting friend reply yes440 no440...</td>\n",
       "    </tr>\n",
       "    <tr>\n",
       "      <th>4</th>\n",
       "      <td>Ok... U enjoy ur shows...</td>\n",
       "      <td>ok enjoy ur shows</td>\n",
       "    </tr>\n",
       "  </tbody>\n",
       "</table>\n",
       "</div>"
      ],
      "text/plain": [
       "                                                text  \\\n",
       "0  Hi I'm sue. I am 20 years old and work as a la...   \n",
       "1  Right it wasnt you who phoned it was someone w...   \n",
       "2  ou are guaranteed the latest Nokia Phone, a 40...   \n",
       "3  Natalja (25/F) is inviting you to be her frien...   \n",
       "4                          Ok... U enjoy ur shows...   \n",
       "\n",
       "                                          clean_text  \n",
       "0  hi im sue years old work lapdancer love sex te...  \n",
       "1             right wasnt phoned someone number like  \n",
       "2  ou guaranteed latest nokia phone 40gb ipod mp3...  \n",
       "3  natalja 25f inviting friend reply yes440 no440...  \n",
       "4                                  ok enjoy ur shows  "
      ]
     },
     "execution_count": 154,
     "metadata": {},
     "output_type": "execute_result"
    }
   ],
   "source": [
    "df['clean_text'] = df['text'].apply(clean_text)\n",
    "df[['text', 'clean_text']].head()"
   ]
  },
  {
   "cell_type": "markdown",
   "metadata": {},
   "source": [
    "- #### Common word removal"
   ]
  },
  {
   "cell_type": "code",
   "execution_count": 158,
   "metadata": {},
   "outputs": [
    {
     "data": {
      "text/plain": [
       "call      380\n",
       "free      228\n",
       "ur        179\n",
       "txt       153\n",
       "text      133\n",
       "get       127\n",
       "mobile    126\n",
       "stop      118\n",
       "claim     113\n",
       "reply     110\n",
       "dtype: int64"
      ]
     },
     "execution_count": 158,
     "metadata": {},
     "output_type": "execute_result"
    }
   ],
   "source": [
    "freq_word = pd.Series(' '.join(df['clean_text']).split(\" \")).value_counts()[:10]\n",
    "freq_word"
   ]
  },
  {
   "cell_type": "code",
   "execution_count": 159,
   "metadata": {},
   "outputs": [
    {
     "data": {
      "text/plain": [
       "['call',\n",
       " 'free',\n",
       " 'ur',\n",
       " 'txt',\n",
       " 'text',\n",
       " 'get',\n",
       " 'mobile',\n",
       " 'stop',\n",
       " 'claim',\n",
       " 'reply']"
      ]
     },
     "execution_count": 159,
     "metadata": {},
     "output_type": "execute_result"
    }
   ],
   "source": [
    "freq = list(freq_word.index)\n",
    "freq"
   ]
  },
  {
   "cell_type": "code",
   "execution_count": 160,
   "metadata": {},
   "outputs": [
    {
     "data": {
      "text/html": [
       "<div>\n",
       "<style scoped>\n",
       "    .dataframe tbody tr th:only-of-type {\n",
       "        vertical-align: middle;\n",
       "    }\n",
       "\n",
       "    .dataframe tbody tr th {\n",
       "        vertical-align: top;\n",
       "    }\n",
       "\n",
       "    .dataframe thead th {\n",
       "        text-align: right;\n",
       "    }\n",
       "</style>\n",
       "<table border=\"1\" class=\"dataframe\">\n",
       "  <thead>\n",
       "    <tr style=\"text-align: right;\">\n",
       "      <th></th>\n",
       "      <th>text</th>\n",
       "      <th>clean_text</th>\n",
       "    </tr>\n",
       "  </thead>\n",
       "  <tbody>\n",
       "    <tr>\n",
       "      <th>0</th>\n",
       "      <td>Hi I'm sue. I am 20 years old and work as a la...</td>\n",
       "      <td>hi im sue years old work lapdancer love sex te...</td>\n",
       "    </tr>\n",
       "    <tr>\n",
       "      <th>1</th>\n",
       "      <td>Right it wasnt you who phoned it was someone w...</td>\n",
       "      <td>right wasnt phoned someone number like</td>\n",
       "    </tr>\n",
       "    <tr>\n",
       "      <th>2</th>\n",
       "      <td>ou are guaranteed the latest Nokia Phone, a 40...</td>\n",
       "      <td>ou guaranteed latest nokia phone 40gb ipod mp3...</td>\n",
       "    </tr>\n",
       "    <tr>\n",
       "      <th>3</th>\n",
       "      <td>Natalja (25/F) is inviting you to be her frien...</td>\n",
       "      <td>natalja 25f inviting friend reply yes440 no440...</td>\n",
       "    </tr>\n",
       "    <tr>\n",
       "      <th>4</th>\n",
       "      <td>Ok... U enjoy ur shows...</td>\n",
       "      <td>ok enjoy ur shows</td>\n",
       "    </tr>\n",
       "  </tbody>\n",
       "</table>\n",
       "</div>"
      ],
      "text/plain": [
       "                                                text  \\\n",
       "0  Hi I'm sue. I am 20 years old and work as a la...   \n",
       "1  Right it wasnt you who phoned it was someone w...   \n",
       "2  ou are guaranteed the latest Nokia Phone, a 40...   \n",
       "3  Natalja (25/F) is inviting you to be her frien...   \n",
       "4                          Ok... U enjoy ur shows...   \n",
       "\n",
       "                                          clean_text  \n",
       "0  hi im sue years old work lapdancer love sex te...  \n",
       "1             right wasnt phoned someone number like  \n",
       "2  ou guaranteed latest nokia phone 40gb ipod mp3...  \n",
       "3  natalja 25f inviting friend reply yes440 no440...  \n",
       "4                                  ok enjoy ur shows  "
      ]
     },
     "execution_count": 160,
     "metadata": {},
     "output_type": "execute_result"
    }
   ],
   "source": [
    "df['clean_text'] = df['clean_text'].apply(lambda x: ' '.join([w for w in x.split(\" \") if x not in freq_word]))\n",
    "df[['text', 'clean_text']].head()"
   ]
  },
  {
   "cell_type": "markdown",
   "metadata": {},
   "source": [
    "- #### Rarely word removal\n",
    "- It's so rarely. The association between them and other word is dominated by noise.\n",
    "- You can replace rare words with a more general form and then this will have higher counts"
   ]
  },
  {
   "cell_type": "code",
   "execution_count": 161,
   "metadata": {},
   "outputs": [
    {
     "data": {
      "text/plain": [
       "drivin       1\n",
       "qlynnbv      1\n",
       "padhegm      1\n",
       "bû÷ham      1\n",
       "recession    1\n",
       "carlie       1\n",
       "triumphed    1\n",
       "benefits     1\n",
       "mrng         1\n",
       "credited     1\n",
       "dtype: int64"
      ]
     },
     "execution_count": 161,
     "metadata": {},
     "output_type": "execute_result"
    }
   ],
   "source": [
    "rarely_word = pd.Series(' '.join(df['clean_text']).split(\" \")).value_counts()[-10:]\n",
    "rarely_word"
   ]
  },
  {
   "cell_type": "code",
   "execution_count": 162,
   "metadata": {},
   "outputs": [
    {
     "data": {
      "text/plain": [
       "['drivin',\n",
       " 'qlynnbv',\n",
       " 'padhegm',\n",
       " 'b\\x89û÷ham',\n",
       " 'recession',\n",
       " 'carlie',\n",
       " 'triumphed',\n",
       " 'benefits',\n",
       " 'mrng',\n",
       " 'credited']"
      ]
     },
     "execution_count": 162,
     "metadata": {},
     "output_type": "execute_result"
    }
   ],
   "source": [
    "freq = list(rarely_word.index)\n",
    "freq"
   ]
  },
  {
   "cell_type": "code",
   "execution_count": 164,
   "metadata": {},
   "outputs": [
    {
     "data": {
      "text/html": [
       "<div>\n",
       "<style scoped>\n",
       "    .dataframe tbody tr th:only-of-type {\n",
       "        vertical-align: middle;\n",
       "    }\n",
       "\n",
       "    .dataframe tbody tr th {\n",
       "        vertical-align: top;\n",
       "    }\n",
       "\n",
       "    .dataframe thead th {\n",
       "        text-align: right;\n",
       "    }\n",
       "</style>\n",
       "<table border=\"1\" class=\"dataframe\">\n",
       "  <thead>\n",
       "    <tr style=\"text-align: right;\">\n",
       "      <th></th>\n",
       "      <th>text</th>\n",
       "      <th>clean_text</th>\n",
       "    </tr>\n",
       "  </thead>\n",
       "  <tbody>\n",
       "    <tr>\n",
       "      <th>0</th>\n",
       "      <td>Hi I'm sue. I am 20 years old and work as a la...</td>\n",
       "      <td>hi im sue years old work lapdancer love sex te...</td>\n",
       "    </tr>\n",
       "    <tr>\n",
       "      <th>1</th>\n",
       "      <td>Right it wasnt you who phoned it was someone w...</td>\n",
       "      <td>right wasnt phoned someone number like</td>\n",
       "    </tr>\n",
       "    <tr>\n",
       "      <th>2</th>\n",
       "      <td>ou are guaranteed the latest Nokia Phone, a 40...</td>\n",
       "      <td>ou guaranteed latest nokia phone 40gb ipod mp3...</td>\n",
       "    </tr>\n",
       "    <tr>\n",
       "      <th>3</th>\n",
       "      <td>Natalja (25/F) is inviting you to be her frien...</td>\n",
       "      <td>natalja 25f inviting friend reply yes440 no440...</td>\n",
       "    </tr>\n",
       "    <tr>\n",
       "      <th>4</th>\n",
       "      <td>Ok... U enjoy ur shows...</td>\n",
       "      <td>ok enjoy ur shows</td>\n",
       "    </tr>\n",
       "  </tbody>\n",
       "</table>\n",
       "</div>"
      ],
      "text/plain": [
       "                                                text  \\\n",
       "0  Hi I'm sue. I am 20 years old and work as a la...   \n",
       "1  Right it wasnt you who phoned it was someone w...   \n",
       "2  ou are guaranteed the latest Nokia Phone, a 40...   \n",
       "3  Natalja (25/F) is inviting you to be her frien...   \n",
       "4                          Ok... U enjoy ur shows...   \n",
       "\n",
       "                                          clean_text  \n",
       "0  hi im sue years old work lapdancer love sex te...  \n",
       "1             right wasnt phoned someone number like  \n",
       "2  ou guaranteed latest nokia phone 40gb ipod mp3...  \n",
       "3  natalja 25f inviting friend reply yes440 no440...  \n",
       "4                                  ok enjoy ur shows  "
      ]
     },
     "execution_count": 164,
     "metadata": {},
     "output_type": "execute_result"
    }
   ],
   "source": [
    "df['clean_text'] = df['clean_text'].apply(lambda x: ' '.join([w for w in x.split(\" \") if w not in freq]))\n",
    "df[['text', 'clean_text']].head()"
   ]
  },
  {
   "cell_type": "markdown",
   "metadata": {},
   "source": [
    "- #### Spelling correction.\n",
    "We should replace mistake spelling order to reduce multiples of copies word. Like (u, you) ..."
   ]
  },
  {
   "cell_type": "code",
   "execution_count": 165,
   "metadata": {},
   "outputs": [],
   "source": [
    "from textblob import TextBlob"
   ]
  },
  {
   "cell_type": "code",
   "execution_count": 166,
   "metadata": {},
   "outputs": [
    {
     "data": {
      "text/html": [
       "<div>\n",
       "<style scoped>\n",
       "    .dataframe tbody tr th:only-of-type {\n",
       "        vertical-align: middle;\n",
       "    }\n",
       "\n",
       "    .dataframe tbody tr th {\n",
       "        vertical-align: top;\n",
       "    }\n",
       "\n",
       "    .dataframe thead th {\n",
       "        text-align: right;\n",
       "    }\n",
       "</style>\n",
       "<table border=\"1\" class=\"dataframe\">\n",
       "  <thead>\n",
       "    <tr style=\"text-align: right;\">\n",
       "      <th></th>\n",
       "      <th>text</th>\n",
       "      <th>clean_text</th>\n",
       "      <th>spelling_correction</th>\n",
       "    </tr>\n",
       "  </thead>\n",
       "  <tbody>\n",
       "    <tr>\n",
       "      <th>0</th>\n",
       "      <td>Hi I'm sue. I am 20 years old and work as a la...</td>\n",
       "      <td>hi im sue years old work lapdancer love sex te...</td>\n",
       "      <td>hi in sue years old work lapdancer love sex te...</td>\n",
       "    </tr>\n",
       "    <tr>\n",
       "      <th>1</th>\n",
       "      <td>Right it wasnt you who phoned it was someone w...</td>\n",
       "      <td>right wasnt phoned someone number like</td>\n",
       "      <td>right want phone someone number like</td>\n",
       "    </tr>\n",
       "    <tr>\n",
       "      <th>2</th>\n",
       "      <td>ou are guaranteed the latest Nokia Phone, a 40...</td>\n",
       "      <td>ou guaranteed latest nokia phone 40gb ipod mp3...</td>\n",
       "      <td>ou guaranteed latest nikita phone 40gb upon ma...</td>\n",
       "    </tr>\n",
       "    <tr>\n",
       "      <th>3</th>\n",
       "      <td>Natalja (25/F) is inviting you to be her frien...</td>\n",
       "      <td>natalja 25f inviting friend reply yes440 no440...</td>\n",
       "      <td>natalya of inviting friend reply yes440 no440 ...</td>\n",
       "    </tr>\n",
       "    <tr>\n",
       "      <th>4</th>\n",
       "      <td>Ok... U enjoy ur shows...</td>\n",
       "      <td>ok enjoy ur shows</td>\n",
       "      <td>ok enjoy or shows</td>\n",
       "    </tr>\n",
       "  </tbody>\n",
       "</table>\n",
       "</div>"
      ],
      "text/plain": [
       "                                                text  \\\n",
       "0  Hi I'm sue. I am 20 years old and work as a la...   \n",
       "1  Right it wasnt you who phoned it was someone w...   \n",
       "2  ou are guaranteed the latest Nokia Phone, a 40...   \n",
       "3  Natalja (25/F) is inviting you to be her frien...   \n",
       "4                          Ok... U enjoy ur shows...   \n",
       "\n",
       "                                          clean_text  \\\n",
       "0  hi im sue years old work lapdancer love sex te...   \n",
       "1             right wasnt phoned someone number like   \n",
       "2  ou guaranteed latest nokia phone 40gb ipod mp3...   \n",
       "3  natalja 25f inviting friend reply yes440 no440...   \n",
       "4                                  ok enjoy ur shows   \n",
       "\n",
       "                                 spelling_correction  \n",
       "0  hi in sue years old work lapdancer love sex te...  \n",
       "1               right want phone someone number like  \n",
       "2  ou guaranteed latest nikita phone 40gb upon ma...  \n",
       "3  natalya of inviting friend reply yes440 no440 ...  \n",
       "4                                  ok enjoy or shows  "
      ]
     },
     "execution_count": 166,
     "metadata": {},
     "output_type": "execute_result"
    }
   ],
   "source": [
    "df['spelling_correction'] = df['clean_text'].apply(lambda x: str(TextBlob(x).correct()))\n",
    "df[['text', 'clean_text', 'spelling_correction']].head()"
   ]
  },
  {
   "cell_type": "markdown",
   "metadata": {},
   "source": [
    "- #### Lemmatization\n",
    "Convert the word into the root word\n",
    "Exp: Did-> do, are-> be, years-> year, went-> go, talked -> talk ..."
   ]
  },
  {
   "cell_type": "code",
   "execution_count": 168,
   "metadata": {},
   "outputs": [],
   "source": [
    "def lemmatize(text):\n",
    "    tokens = word_tokenize(text)\n",
    "    lemmatizer = WordNetLemmatizer()\n",
    "    tokens = nltk.pos_tag(tokens)\n",
    "    tokens = [lemmatizer.lemmatize(w, pos=tag(wn)) for w, wn in tokens]\n",
    "    \n",
    "    return \" \".join(tokens)"
   ]
  },
  {
   "cell_type": "code",
   "execution_count": 169,
   "metadata": {},
   "outputs": [
    {
     "data": {
      "text/html": [
       "<div>\n",
       "<style scoped>\n",
       "    .dataframe tbody tr th:only-of-type {\n",
       "        vertical-align: middle;\n",
       "    }\n",
       "\n",
       "    .dataframe tbody tr th {\n",
       "        vertical-align: top;\n",
       "    }\n",
       "\n",
       "    .dataframe thead th {\n",
       "        text-align: right;\n",
       "    }\n",
       "</style>\n",
       "<table border=\"1\" class=\"dataframe\">\n",
       "  <thead>\n",
       "    <tr style=\"text-align: right;\">\n",
       "      <th></th>\n",
       "      <th>text</th>\n",
       "      <th>clean_text</th>\n",
       "      <th>spelling_correction</th>\n",
       "    </tr>\n",
       "  </thead>\n",
       "  <tbody>\n",
       "    <tr>\n",
       "      <th>0</th>\n",
       "      <td>Hi I'm sue. I am 20 years old and work as a la...</td>\n",
       "      <td>hi im sue year old work lapdancer love sex tex...</td>\n",
       "      <td>hi in sue year old work lapdancer love sex tex...</td>\n",
       "    </tr>\n",
       "    <tr>\n",
       "      <th>1</th>\n",
       "      <td>Right it wasnt you who phoned it was someone w...</td>\n",
       "      <td>right wasnt phone someone number like</td>\n",
       "      <td>right want phone someone number like</td>\n",
       "    </tr>\n",
       "    <tr>\n",
       "      <th>2</th>\n",
       "      <td>ou are guaranteed the latest Nokia Phone, a 40...</td>\n",
       "      <td>ou guarantee late nokia phone 40gb ipod mp3 pl...</td>\n",
       "      <td>ou guarantee late nikita phone 40gb upon may p...</td>\n",
       "    </tr>\n",
       "    <tr>\n",
       "      <th>3</th>\n",
       "      <td>Natalja (25/F) is inviting you to be her frien...</td>\n",
       "      <td>natalja 25f invite friend reply yes440 no440 s...</td>\n",
       "      <td>natalya of invite friend reply yes440 no440 se...</td>\n",
       "    </tr>\n",
       "    <tr>\n",
       "      <th>4</th>\n",
       "      <td>Ok... U enjoy ur shows...</td>\n",
       "      <td>ok enjoy ur show</td>\n",
       "      <td>ok enjoy or show</td>\n",
       "    </tr>\n",
       "  </tbody>\n",
       "</table>\n",
       "</div>"
      ],
      "text/plain": [
       "                                                text  \\\n",
       "0  Hi I'm sue. I am 20 years old and work as a la...   \n",
       "1  Right it wasnt you who phoned it was someone w...   \n",
       "2  ou are guaranteed the latest Nokia Phone, a 40...   \n",
       "3  Natalja (25/F) is inviting you to be her frien...   \n",
       "4                          Ok... U enjoy ur shows...   \n",
       "\n",
       "                                          clean_text  \\\n",
       "0  hi im sue year old work lapdancer love sex tex...   \n",
       "1              right wasnt phone someone number like   \n",
       "2  ou guarantee late nokia phone 40gb ipod mp3 pl...   \n",
       "3  natalja 25f invite friend reply yes440 no440 s...   \n",
       "4                                   ok enjoy ur show   \n",
       "\n",
       "                                 spelling_correction  \n",
       "0  hi in sue year old work lapdancer love sex tex...  \n",
       "1               right want phone someone number like  \n",
       "2  ou guarantee late nikita phone 40gb upon may p...  \n",
       "3  natalya of invite friend reply yes440 no440 se...  \n",
       "4                                   ok enjoy or show  "
      ]
     },
     "execution_count": 169,
     "metadata": {},
     "output_type": "execute_result"
    }
   ],
   "source": [
    "df['clean_text'] = df['clean_text'].apply(lambda x: lemmatize(x))\n",
    "df['spelling_correction'] = df['spelling_correction'].apply(lambda x: lemmatize(x))\n",
    "df[['text', 'clean_text', 'spelling_correction']].head()"
   ]
  },
  {
   "cell_type": "code",
   "execution_count": null,
   "metadata": {},
   "outputs": [],
   "source": []
  }
 ],
 "metadata": {
  "kernelspec": {
   "display_name": "Python 3",
   "language": "python",
   "name": "python3"
  },
  "language_info": {
   "codemirror_mode": {
    "name": "ipython",
    "version": 3
   },
   "file_extension": ".py",
   "mimetype": "text/x-python",
   "name": "python",
   "nbconvert_exporter": "python",
   "pygments_lexer": "ipython3",
   "version": "3.8.5"
  }
 },
 "nbformat": 4,
 "nbformat_minor": 4
}
